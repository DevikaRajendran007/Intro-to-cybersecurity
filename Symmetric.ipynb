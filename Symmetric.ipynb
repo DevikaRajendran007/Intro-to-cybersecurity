{
  "nbformat": 4,
  "nbformat_minor": 0,
  "metadata": {
    "colab": {
      "provenance": []
    },
    "kernelspec": {
      "name": "python3",
      "display_name": "Python 3"
    },
    "language_info": {
      "name": "python"
    }
  },
  "cells": [
    {
      "cell_type": "markdown",
      "source": [
        "Implement any two symmetric encryption algorithms using Python\n",
        "\n",
        "1.Caesar Cipher:\n",
        "              The caesar cipher technique is one of the earliest and simplest methods of encryption technique. Each letter of a given text is replaced by a letter with a fixed number of positions down the alphabet.\n",
        "   \n",
        "\n",
        "Working:\n",
        "\n",
        "Encryption:\n",
        "\n",
        "1. Take a plain text.  \n",
        "2. For each character in the plain text:\n",
        "       * Convert it into corresponding ASCII value.\n",
        "       * Shift the value to left by 3 places.\n",
        "       * Convert the value back into character.\n",
        "  \n",
        "Decryption:\n",
        "\n",
        "1. Take the cipher text.\n",
        "2. For each character in the cipher text:\n",
        "       * Convert it into corresponding ASCII value.\n",
        "       * Shift the value to right by 3 places.\n",
        "       * Convert the value back into character.\n",
        "\n",
        "\n"
      ],
      "metadata": {
        "id": "SwPJmHPzLW0g"
      }
    },
    {
      "cell_type": "code",
      "source": [
        "#Caesar cipher\n",
        "def encryption():\n",
        "    strings=\"\"\n",
        "    for char in text:\n",
        "        ascii = ord(char)\n",
        "        new_ascii=ascii+3\n",
        "        new_char=chr(new_ascii)\n",
        "        strings=strings+new_char\n",
        "    return strings\n",
        "\n",
        "def decryption():\n",
        "    strings=\"\"\n",
        "    for char in cipher:\n",
        "        ascii = ord(char)\n",
        "        new_ascii=ascii-3\n",
        "        new_char=chr(new_ascii)\n",
        "        strings=strings+new_char\n",
        "    return strings\n",
        "\n",
        "text=input(\"Enter the text:\")\n",
        "cipher=encryption()\n",
        "print(\"Encrypted text:\",cipher)\n",
        "plain=decryption()\n",
        "print(\"Decrypted text:\",plain)"
      ],
      "metadata": {
        "colab": {
          "base_uri": "https://localhost:8080/"
        },
        "id": "cYTL92x2K1EP",
        "outputId": "cbd8ddd5-d113-4ea7-f4d9-3aa1bedbdae9"
      },
      "execution_count": 3,
      "outputs": [
        {
          "output_type": "stream",
          "name": "stdout",
          "text": [
            "Enter the text:Devika\n",
            "Encrypted text: Ghylnd\n",
            "Decrypted text: Devika\n"
          ]
        }
      ]
    },
    {
      "cell_type": "markdown",
      "source": [
        "2.Vigenere Cipher:\n",
        "\n",
        "Working:\n",
        "\n",
        "Encyrption:\n",
        "\n",
        "1. Takes a plaintext and a key.\n",
        "2. For each character in the plaintext.\n",
        "       *  Checks if the character is an alphabet.\n",
        "       *  Calculates the shift based on the character's position and the corresponding key character.\n",
        "       *  Encrypts the character using the Caesar cipher algorithm.\n",
        "       *  Appends the encrypted character to the ciphertext.\n",
        "3. Returns the ciphertext.\n",
        "\n",
        "\n",
        "Decryption:\n",
        "\n",
        "1. Takes a ciphertext and a key.\n",
        "2. For each character in the ciphertext.\n",
        "       *  Checks if the character is an alphabet.\n",
        "       *  Calculates the shift based on the character's position and the corresponding key character.\n",
        "       *  Decrypts the character using the Caesar cipher algorithm.\n",
        "       *  Appends the decrypted character to the plaintext.\n",
        "3. Returns the plaintext.\n",
        "\n",
        "\n",
        "\n",
        "\n"
      ],
      "metadata": {
        "id": "bp367hhcLaB5"
      }
    },
    {
      "cell_type": "code",
      "source": [
        "#Vigenere Cipher\n",
        "def encrypt(plain_text,key):\n",
        "    cipher_text=\"\"\n",
        "    for i in range(len(plain_text)):\n",
        "        char = plain_text[i]\n",
        "        if char.isalpha():\n",
        "            if char.isupper():\n",
        "                start=ord('A')\n",
        "            else:\n",
        "                start=ord('a')\n",
        "            key = key[i % len(key)]\n",
        "            encrypted_char = chr((ord(char) - start+ ord(key)) % 26 + start)\n",
        "            cipher_text= cipher_text + encrypted_char\n",
        "    return cipher_text\n",
        "\n",
        "\n",
        "def decrypt(cipher_text,key):\n",
        "    plain_text = \"\"\n",
        "    for i in range(len(cipher_text)):\n",
        "        char = cipher_text[i]\n",
        "        if char.isalpha():\n",
        "            if char.isupper():\n",
        "                start=ord('A')\n",
        "            else:\n",
        "                start=ord('a')\n",
        "            key = key[i % len(key)]\n",
        "            decrypted_char = chr((ord(char) - start - ord(key)) % 26 + start)\n",
        "            plain_text=plain_text + decrypted_char\n",
        "    return plain_text\n",
        "text=input(\"Enter the plain text:\")\n",
        "key =input(\"Enter the key:\")\n",
        "cipher_text = encrypt(text,key)\n",
        "decrypted_text= decrypt(cipher_text,key)\n",
        "print(\"Encrypted text:\",cipher_text)\n",
        "print(\"Decrypted text:\",decrypted_text)"
      ],
      "metadata": {
        "colab": {
          "base_uri": "https://localhost:8080/"
        },
        "id": "TlQ9NLjTJO5e",
        "outputId": "8a42bffc-3f3e-4522-c25b-f5fd722768b8"
      },
      "execution_count": 2,
      "outputs": [
        {
          "output_type": "stream",
          "name": "stdout",
          "text": [
            "Enter the plain text:Devika\n",
            "Enter the key:Hello\n",
            "Encrypted text: Xypceu\n",
            "Decrypted text: Devika\n"
          ]
        }
      ]
    },
    {
      "cell_type": "markdown",
      "source": [],
      "metadata": {
        "id": "gq24E_yMKxa4"
      }
    }
  ]
}